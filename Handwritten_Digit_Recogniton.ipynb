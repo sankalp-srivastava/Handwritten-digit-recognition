{
  "nbformat": 4,
  "nbformat_minor": 0,
  "metadata": {
    "accelerator": "GPU",
    "colab": {
      "name": "Handwritten Digit Recogniton.ipynb",
      "provenance": [],
      "authorship_tag": "ABX9TyOC033EsRQSfMA9G3ezAAgX"
    },
    "kernelspec": {
      "display_name": "Python 3",
      "name": "python3"
    }
  },
  "cells": [
    {
      "cell_type": "markdown",
      "metadata": {
        "id": "5pF2MFLx9FM0"
      },
      "source": [
        "#**Hand Written Digit Recignition**"
      ]
    },
    {
      "cell_type": "markdown",
      "metadata": {
        "id": "7B2avoYv9QO7"
      },
      "source": [
        "###Importing Libraries"
      ]
    },
    {
      "cell_type": "code",
      "metadata": {
        "id": "GvOkBmWT9LSs"
      },
      "source": [
        "import matplotlib.pyplot as plt\r\n",
        "import numpy as np\r\n",
        "import os\r\n",
        "import PIL\r\n",
        "import tensorflow as tf\r\n",
        "\r\n",
        "from tensorflow import keras\r\n",
        "from tensorflow.keras import layers, datasets, models\r\n",
        "from tensorflow.keras.models import Sequential"
      ],
      "execution_count": 1,
      "outputs": []
    },
    {
      "cell_type": "markdown",
      "metadata": {
        "id": "dUD4CoNh9uHh"
      },
      "source": [
        "###Preparing Dataset"
      ]
    },
    {
      "cell_type": "code",
      "metadata": {
        "colab": {
          "base_uri": "https://localhost:8080/"
        },
        "id": "U8t9sEka9O5w",
        "outputId": "a64057ec-08db-4904-eb11-d5cbd39dc823"
      },
      "source": [
        "(train_images, train_labels), (test_images, test_labels) = datasets.mnist.load_data()\r\n",
        "\r\n",
        "train_images = train_images.reshape((60000, 28, 28, 1))\r\n",
        "test_images = test_images.reshape((10000, 28, 28, 1))\r\n",
        "val_images = train_images[:5000]\r\n",
        "val_labels = train_labels[:5000]\r\n",
        "train_images = train_images[5000:]\r\n",
        "train_labels = train_labels[5000:]\r\n",
        "# Normalize pixel values to be between 0 and 1\r\n",
        "train_images, test_images = train_images / 255.0, test_images / 255.0\r\n",
        "\r\n",
        "print(\"TRAIN IMAGES: \", train_images.shape)\r\n",
        "print(\"VALIDATION IMAGES: \", val_images.shape)\r\n",
        "print(\"TEST IMAGES: \", test_images.shape)"
      ],
      "execution_count": 3,
      "outputs": [
        {
          "output_type": "stream",
          "text": [
            "TRAIN IMAGES:  (55000, 28, 28, 1)\n",
            "VALIDATION IMAGES:  (5000, 28, 28, 1)\n",
            "TEST IMAGES:  (10000, 28, 28, 1)\n"
          ],
          "name": "stdout"
        }
      ]
    },
    {
      "cell_type": "markdown",
      "metadata": {
        "id": "yqET7xyw929N"
      },
      "source": [
        "###Creating Model"
      ]
    },
    {
      "cell_type": "code",
      "metadata": {
        "id": "vX9XZg_194wS"
      },
      "source": [
        "num_classes = 10\r\n",
        "img_height = 28\r\n",
        "img_width = 28\r\n",
        "\r\n",
        "model = Sequential([\r\n",
        "    layers.Conv2D(64, (3, 3), activation='relu', input_shape=(28, 28, 1)),\r\n",
        "    layers.Conv2D(32, 3, padding='same', activation='relu'),\r\n",
        "    layers.MaxPooling2D(),\r\n",
        "    layers.Conv2D(16, 3, padding='same', activation='relu'),\r\n",
        "    layers.MaxPooling2D(),\r\n",
        "    layers.Conv2D(64, 3, padding='same', activation='relu'),\r\n",
        "    layers.MaxPooling2D(),\r\n",
        "    layers.Flatten(),\r\n",
        "    layers.Dense(128, activation='relu'),\r\n",
        "    layers.Dense(10, activation='sigmoid')\r\n",
        "])"
      ],
      "execution_count": 4,
      "outputs": []
    },
    {
      "cell_type": "markdown",
      "metadata": {
        "id": "zgHzTW7O99ge"
      },
      "source": [
        "### Compiling Model"
      ]
    },
    {
      "cell_type": "code",
      "metadata": {
        "id": "Bn4NYEgj9_W2"
      },
      "source": [
        "model.compile(optimizer='adam',\r\n",
        "              loss=tf.keras.losses.SparseCategoricalCrossentropy(from_logits=True),\r\n",
        "              metrics=['accuracy'])"
      ],
      "execution_count": 5,
      "outputs": []
    },
    {
      "cell_type": "code",
      "metadata": {
        "colab": {
          "base_uri": "https://localhost:8080/"
        },
        "id": "FGPOO4J0-JkD",
        "outputId": "6105df2d-4aec-46a2-adef-77778611243b"
      },
      "source": [
        "model.summary()"
      ],
      "execution_count": 6,
      "outputs": [
        {
          "output_type": "stream",
          "text": [
            "Model: \"sequential\"\n",
            "_________________________________________________________________\n",
            "Layer (type)                 Output Shape              Param #   \n",
            "=================================================================\n",
            "conv2d (Conv2D)              (None, 26, 26, 64)        640       \n",
            "_________________________________________________________________\n",
            "conv2d_1 (Conv2D)            (None, 26, 26, 32)        18464     \n",
            "_________________________________________________________________\n",
            "max_pooling2d (MaxPooling2D) (None, 13, 13, 32)        0         \n",
            "_________________________________________________________________\n",
            "conv2d_2 (Conv2D)            (None, 13, 13, 16)        4624      \n",
            "_________________________________________________________________\n",
            "max_pooling2d_1 (MaxPooling2 (None, 6, 6, 16)          0         \n",
            "_________________________________________________________________\n",
            "conv2d_3 (Conv2D)            (None, 6, 6, 64)          9280      \n",
            "_________________________________________________________________\n",
            "max_pooling2d_2 (MaxPooling2 (None, 3, 3, 64)          0         \n",
            "_________________________________________________________________\n",
            "flatten (Flatten)            (None, 576)               0         \n",
            "_________________________________________________________________\n",
            "dense (Dense)                (None, 128)               73856     \n",
            "_________________________________________________________________\n",
            "dense_1 (Dense)              (None, 10)                1290      \n",
            "=================================================================\n",
            "Total params: 108,154\n",
            "Trainable params: 108,154\n",
            "Non-trainable params: 0\n",
            "_________________________________________________________________\n"
          ],
          "name": "stdout"
        }
      ]
    },
    {
      "cell_type": "markdown",
      "metadata": {
        "id": "Q51Tp2uX-g7Y"
      },
      "source": [
        "### Adding ModelCheckpoint to save the model with best accuracy on val dataset"
      ]
    },
    {
      "cell_type": "code",
      "metadata": {
        "id": "Y75WIvWl-gmJ"
      },
      "source": [
        "from keras.callbacks import ModelCheckpoint\r\n",
        "\r\n",
        "checkpointer = ModelCheckpoint(filepath='model.weights.best.hdf5', verbose = 1, save_best_only=True)"
      ],
      "execution_count": 7,
      "outputs": []
    },
    {
      "cell_type": "markdown",
      "metadata": {
        "id": "4wDCF0wW-M0O"
      },
      "source": [
        "### Training"
      ]
    },
    {
      "cell_type": "code",
      "metadata": {
        "colab": {
          "base_uri": "https://localhost:8080/"
        },
        "id": "sBlD4z_a-OmO",
        "outputId": "c54d4739-060b-4431-8192-60607a7b68a3"
      },
      "source": [
        "epochs = 10\r\n",
        "history = model.fit(\r\n",
        "  train_images, \r\n",
        "  train_labels,\r\n",
        "  batch_size = 64,\r\n",
        "  epochs = epochs,\r\n",
        "  validation_data=(val_images,val_labels),\r\n",
        "  callbacks = [checkpointer]\r\n",
        ")"
      ],
      "execution_count": 9,
      "outputs": [
        {
          "output_type": "stream",
          "text": [
            "Epoch 1/10\n",
            "860/860 [==============================] - 11s 5ms/step - loss: 0.4326 - accuracy: 0.8597 - val_loss: 13.3662 - val_accuracy: 0.9738\n",
            "\n",
            "Epoch 00001: val_loss improved from inf to 13.36615, saving model to model.weights.best.hdf5\n",
            "Epoch 2/10\n",
            "860/860 [==============================] - 4s 5ms/step - loss: 0.0531 - accuracy: 0.9829 - val_loss: 7.0952 - val_accuracy: 0.9874\n",
            "\n",
            "Epoch 00002: val_loss improved from 13.36615 to 7.09523, saving model to model.weights.best.hdf5\n",
            "Epoch 3/10\n",
            "860/860 [==============================] - 4s 5ms/step - loss: 0.0358 - accuracy: 0.9885 - val_loss: 8.1883 - val_accuracy: 0.9892\n",
            "\n",
            "Epoch 00003: val_loss did not improve from 7.09523\n",
            "Epoch 4/10\n",
            "860/860 [==============================] - 4s 5ms/step - loss: 0.0273 - accuracy: 0.9914 - val_loss: 8.4415 - val_accuracy: 0.9878\n",
            "\n",
            "Epoch 00004: val_loss did not improve from 7.09523\n",
            "Epoch 5/10\n",
            "860/860 [==============================] - 4s 5ms/step - loss: 0.0200 - accuracy: 0.9941 - val_loss: 7.9629 - val_accuracy: 0.9898\n",
            "\n",
            "Epoch 00005: val_loss did not improve from 7.09523\n",
            "Epoch 6/10\n",
            "860/860 [==============================] - 4s 5ms/step - loss: 0.0201 - accuracy: 0.9937 - val_loss: 7.9173 - val_accuracy: 0.9912\n",
            "\n",
            "Epoch 00006: val_loss did not improve from 7.09523\n",
            "Epoch 7/10\n",
            "860/860 [==============================] - 4s 5ms/step - loss: 0.0161 - accuracy: 0.9950 - val_loss: 8.4900 - val_accuracy: 0.9898\n",
            "\n",
            "Epoch 00007: val_loss did not improve from 7.09523\n",
            "Epoch 8/10\n",
            "860/860 [==============================] - 4s 5ms/step - loss: 0.0136 - accuracy: 0.9949 - val_loss: 5.9701 - val_accuracy: 0.9916\n",
            "\n",
            "Epoch 00008: val_loss improved from 7.09523 to 5.97011, saving model to model.weights.best.hdf5\n",
            "Epoch 9/10\n",
            "860/860 [==============================] - 4s 5ms/step - loss: 0.0130 - accuracy: 0.9953 - val_loss: 7.6251 - val_accuracy: 0.9910\n",
            "\n",
            "Epoch 00009: val_loss did not improve from 5.97011\n",
            "Epoch 10/10\n",
            "860/860 [==============================] - 4s 5ms/step - loss: 0.0109 - accuracy: 0.9964 - val_loss: 7.4393 - val_accuracy: 0.9934\n",
            "\n",
            "Epoch 00010: val_loss did not improve from 5.97011\n"
          ],
          "name": "stdout"
        }
      ]
    },
    {
      "cell_type": "markdown",
      "metadata": {
        "id": "PXEEh-dQG_X9"
      },
      "source": [
        "###Loading The model with best validation accuracy"
      ]
    },
    {
      "cell_type": "code",
      "metadata": {
        "id": "bRWf0JCHHEhr"
      },
      "source": [
        "model.load_weights('model.weights.best.hdf5')"
      ],
      "execution_count": 10,
      "outputs": []
    },
    {
      "cell_type": "markdown",
      "metadata": {
        "id": "IIhEUOOfB_Ll"
      },
      "source": [
        "### Visuals of Training Results"
      ]
    },
    {
      "cell_type": "code",
      "metadata": {
        "colab": {
          "base_uri": "https://localhost:8080/",
          "height": 283
        },
        "id": "QmxUKa4QCCv3",
        "outputId": "98806c41-162f-47a9-dc23-4fc9ab115975"
      },
      "source": [
        "# Get training and test loss histories\r\n",
        "training_loss = history.history['loss']\r\n",
        "val_loss = history.history['val_loss']\r\n",
        "\r\n",
        "# Create count of the number of epochs\r\n",
        "epoch_count = range(1, len(training_loss) + 1)\r\n",
        "\r\n",
        "# Visualize loss history\r\n",
        "plt.plot(epoch_count, training_loss, 'r--')\r\n",
        "plt.plot(epoch_count, val_loss, 'b-')\r\n",
        "plt.legend(['Training Loss', 'Val Loss'])\r\n",
        "plt.xlabel('Epoch')\r\n",
        "plt.ylabel('Loss')\r\n",
        "#plt.ylim(bottom=0.15,top = 0.3)\r\n",
        "plt.show();"
      ],
      "execution_count": 12,
      "outputs": [
        {
          "output_type": "display_data",
          "data": {
            "image/png": "[encoded data removed]",
            "text/plain": [
              "<Figure size 432x288 with 1 Axes>"
            ]
          },
          "metadata": {
            "tags": [],
            "needs_background": "light"
          }
        }
      ]
    },
    {
      "cell_type": "code",
      "metadata": {
        "id": "Ax_MFW5SHUBn",
        "outputId": "9922b0e4-6782-403a-ea27-fb7cf8e2cf53",
        "colab": {
          "base_uri": "https://localhost:8080/",
          "height": 279
        }
      },
      "source": [
        "training_accuracy = history.history['accuracy']\r\n",
        "val_accuracy = history.history['val_accuracy']\r\n",
        "\r\n",
        "# Create count of the number of epochs\r\n",
        "epoch_count = range(1, len(training_accuracy) + 1)\r\n",
        "\r\n",
        "# Visualize loss history\r\n",
        "\r\n",
        "plt.plot(epoch_count, training_accuracy, 'r--')\r\n",
        "plt.plot(epoch_count, val_accuracy, 'b-')\r\n",
        "plt.legend(['Training Accuracy', 'Val Accuracy'])\r\n",
        "plt.xlabel('Epoch')\r\n",
        "plt.ylabel('Accuracy')\r\n",
        "plt.ylim(ymin=0.85)\r\n",
        "plt.show();"
      ],
      "execution_count": 13,
      "outputs": [
        {
          "output_type": "display_data",
          "data": {
            "image/png": "[encoded data removed]",
            "text/plain": [
              "<Figure size 432x288 with 1 Axes>"
            ]
          },
          "metadata": {
            "tags": [],
            "needs_background": "light"
          }
        }
      ]
    },
    {
      "cell_type": "markdown",
      "metadata": {
        "id": "hD8k0Wq4Cp2L"
      },
      "source": [
        "### Testing Image"
      ]
    },
    {
      "cell_type": "code",
      "metadata": {
        "colab": {
          "base_uri": "https://localhost:8080/",
          "height": 337
        },
        "id": "vB2zCuggCt_P",
        "outputId": "213c0056-0fad-4b9f-d590-40bd490a8f67"
      },
      "source": [
        "image = (train_images[1]).reshape(1,28,28,1)\r\n",
        "model_pred = model.predict_classes(image, verbose=0)\r\n",
        "plt.imshow(image.reshape(28,28))\r\n",
        "print('Prediction of model: {}'.format(model_pred[0]))"
      ],
      "execution_count": 14,
      "outputs": [
        {
          "output_type": "stream",
          "text": [
            "/usr/local/lib/python3.6/dist-packages/tensorflow/python/keras/engine/sequential.py:450: UserWarning: `model.predict_classes()` is deprecated and will be removed after 2021-01-01. Please use instead:* `np.argmax(model.predict(x), axis=-1)`,   if your model does multi-class classification   (e.g. if it uses a `softmax` last-layer activation).* `(model.predict(x) > 0.5).astype(\"int32\")`,   if your model does binary classification   (e.g. if it uses a `sigmoid` last-layer activation).\n",
            "  warnings.warn('`model.predict_classes()` is deprecated and '\n"
          ],
          "name": "stderr"
        },
        {
          "output_type": "stream",
          "text": [
            "Prediction of model: 3\n"
          ],
          "name": "stdout"
        },
        {
          "output_type": "display_data",
          "data": {
            "image/png": "[encoded data removed]",
            "text/plain": [
              "<Figure size 432x288 with 1 Axes>"
            ]
          },
          "metadata": {
            "tags": [],
            "needs_background": "light"
          }
        }
      ]
    },
    {
      "cell_type": "code",
      "metadata": {
        "id": "WKIv6XjQJhSy",
        "outputId": "7f0de88a-2fe9-4951-e386-464c40cc1991",
        "colab": {
          "base_uri": "https://localhost:8080/",
          "height": 485
        }
      },
      "source": [
        "y_hat = model.predict(test_images)\r\n",
        "\r\n",
        "# Plot a random sample of 10 test images, their predicted labels and ground truth\r\n",
        "figure = plt.figure(figsize=(20, 8))\r\n",
        "for i, index in enumerate(np.random.choice(test_images.shape[0], size=15, replace=False)):\r\n",
        "    ax = figure.add_subplot(3, 5, i + 1, xticks=[], yticks=[])\r\n",
        "    # Display each image\r\n",
        "    ax.imshow(np.squeeze(test_images[index]))\r\n",
        "    predict_index = np.argmax(y_hat[index])\r\n",
        "    true_index = test_labels[index]\r\n",
        "    # Set the title for each image\r\n",
        "    ax.set_title(\"{} ({})\".format(predict_index, \r\n",
        "                                  true_index),\r\n",
        "                                  color=(\"green\" if predict_index == true_index else \"red\"))"
      ],
      "execution_count": 29,
      "outputs": [
        {
          "output_type": "display_data",
          "data": {
            "image/png": "[encoded data removed]",
            "text/plain": [
              "<Figure size 1440x576 with 15 Axes>"
            ]
          },
          "metadata": {
            "tags": []
          }
        }
      ]
    },
    {
      "cell_type": "markdown",
      "metadata": {
        "id": "51an5JDOGqTY"
      },
      "source": [
        "Model Results"
      ]
    },
    {
      "cell_type": "code",
      "metadata": {
        "colab": {
          "base_uri": "https://localhost:8080/"
        },
        "id": "zVzycq1SGqlR",
        "outputId": "11546cb1-b242-425c-861d-9265abd626a3"
      },
      "source": [
        "print(\"Evaluate on test data\")\r\n",
        "results = model.evaluate(test_images, test_labels)\r\n",
        "print(\"Test loss ={} \\nTest accuracy = {}\".format(results[0],results[1]*100))"
      ],
      "execution_count": 30,
      "outputs": [
        {
          "output_type": "stream",
          "text": [
            "Evaluate on test data\n",
            "313/313 [==============================] - 1s 3ms/step - loss: 0.0285 - accuracy: 0.9914\n",
            "Test loss =0.028455056250095367 \n",
            "Test accuracy = 99.14000034332275\n"
          ],
          "name": "stdout"
        }
      ]
    },
    {
      "cell_type": "code",
      "metadata": {
        "id": "sd71QAa1MLlz",
        "outputId": "6baa9e0c-63e8-486c-eaee-4ab189eacf68",
        "colab": {
          "resources": {
            "http://localhost:8080/nbextensions/google.colab/files.js": {
              "data": "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",
              "ok": true,
              "headers": [
                [
                  "content-type",
                  "application/javascript"
                ]
              ],
              "status": 200,
              "status_text": ""
            }
          },
          "base_uri": "https://localhost:8080/",
          "height": 337
        }
      },
      "source": [
        "import numpy as np\r\n",
        "from google.colab import files\r\n",
        "from keras.preprocessing import image\r\n",
        "import matplotlib.image as mpimg\r\n",
        "uploaded = files.upload()\r\n",
        "\r\n",
        "for fn in uploaded.keys():\r\n",
        " \r\n",
        "  # predicting images\r\n",
        "  path = '/content/' + fn\r\n",
        "  images = image.load_img(path, target_size=(28,28))\r\n",
        "\r\n",
        "  x = image.img_to_array(images)\r\n",
        "  x = tf.image.rgb_to_grayscale(x)\r\n",
        "  x = np.expand_dims(x, axis=0)\r\n",
        "  x = x/255.0\r\n",
        "  classes = model.predict(x)\r\n",
        "  img = mpimg.imread(fn)\r\n",
        "  imgplot = plt.imshow(images)\r\n",
        "  plt.title(\"Prediction = {}\".format(np.argmax(classes[0])))\r\n",
        "  plt.show()\r\n",
        "\r\n",
        "  "
      ],
      "execution_count": 41,
      "outputs": [
        {
          "output_type": "display_data",
          "data": {
            "text/html": [
              "\n",
              "     <input type=\"file\" id=\"files-e924c9bf-7e7a-4ee7-b98f-735136c41f41\" name=\"files[]\" multiple disabled\n",
              "        style=\"border:none\" />\n",
              "     <output id=\"result-e924c9bf-7e7a-4ee7-b98f-735136c41f41\">\n",
              "      Upload widget is only available when the cell has been executed in the\n",
              "      current browser session. Please rerun this cell to enable.\n",
              "      </output>\n",
              "      <script src=\"/nbextensions/google.colab/files.js\"></script> "
            ],
            "text/plain": [
              "<IPython.core.display.HTML object>"
            ]
          },
          "metadata": {
            "tags": []
          }
        },
        {
          "output_type": "stream",
          "text": [
            "Saving 5.png to 5 (5).png\n"
          ],
          "name": "stdout"
        },
        {
          "output_type": "display_data",
          "data": {
            "image/png": "[encoded data removed]",
            "text/plain": [
              "<Figure size 432x288 with 1 Axes>"
            ]
          },
          "metadata": {
            "tags": [],
            "needs_background": "light"
          }
        }
      ]
    },
    {
      "cell_type": "markdown",
      "metadata": {
        "id": "1jg0a-EBFRI5"
      },
      "source": [
        "Saving the model"
      ]
    },
    {
      "cell_type": "code",
      "metadata": {
        "colab": {
          "base_uri": "https://localhost:8080/"
        },
        "id": "ktO1kfmuFT29",
        "outputId": "86761b60-1e7d-4635-beca-f25bd2fa53f7"
      },
      "source": [
        "model.save(\"digitrecognition\")"
      ],
      "execution_count": 42,
      "outputs": [
        {
          "output_type": "stream",
          "text": [
            "INFO:tensorflow:Assets written to: digitrecognition/assets\n"
          ],
          "name": "stdout"
        }
      ]
    }
  ]
}