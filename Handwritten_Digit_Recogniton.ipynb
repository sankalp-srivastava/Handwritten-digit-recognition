{
  "nbformat": 4,
  "nbformat_minor": 0,
  "metadata": {
    "accelerator": "GPU",
    "colab": {
      "name": "Handwritten Digit Recogniton.ipynb",
      "provenance": [],
      "authorship_tag": "ABX9TyNgZVTy0po7C5b99Q5CL+tc",
      "include_colab_link": true
    },
    "kernelspec": {
      "display_name": "Python 3",
      "name": "python3"
    }
  },
  "cells": [
    {
      "cell_type": "markdown",
      "metadata": {
        "id": "view-in-github",
        "colab_type": "text"
      },
      "source": [
        "<a href=\"https://colab.research.google.com/github/sankalp-srivastava/Handwritten-digit-recognition/blob/main/Handwritten_Digit_Recogniton.ipynb\" target=\"_parent\"><img src=\"https://colab.research.google.com/assets/colab-badge.svg\" alt=\"Open In Colab\"/></a>"
      ]
    },
    {
      "cell_type": "markdown",
      "metadata": {
        "id": "5pF2MFLx9FM0"
      },
      "source": [
        "#**Hand Written Digit Recignition**"
      ]
    },
    {
      "cell_type": "markdown",
      "metadata": {
        "id": "7B2avoYv9QO7"
      },
      "source": [
        "###Importing Libraries"
      ]
    },
    {
      "cell_type": "code",
      "metadata": {
        "id": "GvOkBmWT9LSs"
      },
      "source": [
        "import matplotlib.pyplot as plt\r\n",
        "import numpy as np\r\n",
        "import os\r\n",
        "import PIL\r\n",
        "import tensorflow as tf\r\n",
        "\r\n",
        "from tensorflow import keras\r\n",
        "from tensorflow.keras import layers, datasets, models\r\n",
        "from tensorflow.keras.models import Sequential"
      ],
      "execution_count": 44,
      "outputs": []
    },
    {
      "cell_type": "markdown",
      "metadata": {
        "id": "dUD4CoNh9uHh"
      },
      "source": [
        "###Preparing Dataset"
      ]
    },
    {
      "cell_type": "code",
      "metadata": {
        "colab": {
          "base_uri": "https://localhost:8080/"
        },
        "id": "U8t9sEka9O5w",
        "outputId": "6ca81bf9-bab6-44dd-dac7-660c58377331"
      },
      "source": [
        "(train_images, train_labels), (test_images, test_labels) = datasets.mnist.load_data()\r\n",
        "\r\n",
        "train_images = train_images.reshape((60000, 28, 28, 1))\r\n",
        "test_images = test_images.reshape((10000, 28, 28, 1))\r\n",
        "\r\n",
        "# Normalize pixel values to be between 0 and 1\r\n",
        "train_images, test_images = train_images / 255.0, test_images / 255.0\r\n",
        "\r\n",
        "print(\"TRAIN IMAGES: \", train_images.shape)\r\n",
        "print(\"TEST IMAGES: \", test_images.shape)"
      ],
      "execution_count": 18,
      "outputs": [
        {
          "output_type": "stream",
          "text": [
            "TRAIN IMAGES:  (60000, 28, 28, 1)\n",
            "TEST IMAGES:  (10000, 28, 28, 1)\n"
          ],
          "name": "stdout"
        }
      ]
    },
    {
      "cell_type": "markdown",
      "metadata": {
        "id": "yqET7xyw929N"
      },
      "source": [
        "###Creating Model"
      ]
    },
    {
      "cell_type": "code",
      "metadata": {
        "id": "vX9XZg_194wS"
      },
      "source": [
        "num_classes = 10\r\n",
        "img_height = 28\r\n",
        "img_width = 28\r\n",
        "\r\n",
        "model = Sequential([\r\n",
        "    layers.Conv2D(64, (3, 3), activation='relu', input_shape=(28, 28, 1)),\r\n",
        "    layers.Conv2D(32, 3, padding='same', activation='relu'),\r\n",
        "    layers.MaxPooling2D(),\r\n",
        "    layers.Conv2D(16, 3, padding='same', activation='relu'),\r\n",
        "    layers.MaxPooling2D(),\r\n",
        "    layers.Conv2D(64, 3, padding='same', activation='relu'),\r\n",
        "    layers.MaxPooling2D(),\r\n",
        "    layers.Flatten(),\r\n",
        "    layers.Dense(128, activation='relu'),\r\n",
        "    layers.Dense(10, activation='sigmoid')\r\n",
        "])"
      ],
      "execution_count": null,
      "outputs": []
    },
    {
      "cell_type": "markdown",
      "metadata": {
        "id": "zgHzTW7O99ge"
      },
      "source": [
        "### Compiling Model"
      ]
    },
    {
      "cell_type": "code",
      "metadata": {
        "id": "Bn4NYEgj9_W2"
      },
      "source": [
        "model.compile(optimizer='adam',\r\n",
        "              loss=tf.keras.losses.SparseCategoricalCrossentropy(from_logits=True),\r\n",
        "              metrics=['accuracy'])"
      ],
      "execution_count": null,
      "outputs": []
    },
    {
      "cell_type": "code",
      "metadata": {
        "colab": {
          "base_uri": "https://localhost:8080/"
        },
        "id": "FGPOO4J0-JkD",
        "outputId": "96200452-796b-4e08-d892-984dd64b7c33"
      },
      "source": [
        "model.summary()"
      ],
      "execution_count": null,
      "outputs": [
        {
          "output_type": "stream",
          "text": [
            "Model: \"sequential\"\n",
            "_________________________________________________________________\n",
            "Layer (type)                 Output Shape              Param #   \n",
            "=================================================================\n",
            "conv2d (Conv2D)              (None, 26, 26, 64)        640       \n",
            "_________________________________________________________________\n",
            "conv2d_1 (Conv2D)            (None, 26, 26, 32)        18464     \n",
            "_________________________________________________________________\n",
            "max_pooling2d (MaxPooling2D) (None, 13, 13, 32)        0         \n",
            "_________________________________________________________________\n",
            "conv2d_2 (Conv2D)            (None, 13, 13, 16)        4624      \n",
            "_________________________________________________________________\n",
            "max_pooling2d_1 (MaxPooling2 (None, 6, 6, 16)          0         \n",
            "_________________________________________________________________\n",
            "conv2d_3 (Conv2D)            (None, 6, 6, 64)          9280      \n",
            "_________________________________________________________________\n",
            "max_pooling2d_2 (MaxPooling2 (None, 3, 3, 64)          0         \n",
            "_________________________________________________________________\n",
            "flatten (Flatten)            (None, 576)               0         \n",
            "_________________________________________________________________\n",
            "dense (Dense)                (None, 128)               73856     \n",
            "_________________________________________________________________\n",
            "dense_1 (Dense)              (None, 10)                1290      \n",
            "=================================================================\n",
            "Total params: 108,154\n",
            "Trainable params: 108,154\n",
            "Non-trainable params: 0\n",
            "_________________________________________________________________\n"
          ],
          "name": "stdout"
        }
      ]
    },
    {
      "cell_type": "markdown",
      "metadata": {
        "id": "Q51Tp2uX-g7Y"
      },
      "source": [
        "### Adding Callback to stop training at 99.8% accuracy"
      ]
    },
    {
      "cell_type": "code",
      "metadata": {
        "id": "Y75WIvWl-gmJ"
      },
      "source": [
        "class Mycallback(keras.callbacks.Callback):\r\n",
        "  def on_epoch_end(self,epoch,logs={}):\r\n",
        "    if (logs.get('accuracy') > 0.998):\r\n",
        "      print(\"Reached 99.8% .... Stopping Training\")\r\n",
        "      self.model.stop_training = True"
      ],
      "execution_count": 20,
      "outputs": []
    },
    {
      "cell_type": "markdown",
      "metadata": {
        "id": "4wDCF0wW-M0O"
      },
      "source": [
        "### Training"
      ]
    },
    {
      "cell_type": "code",
      "metadata": {
        "colab": {
          "base_uri": "https://localhost:8080/"
        },
        "id": "sBlD4z_a-OmO",
        "outputId": "156512e6-ddfd-4fbe-d5e7-99198d956ab8"
      },
      "source": [
        "callbacks = Mycallback()\r\n",
        "epochs = 10\r\n",
        "history = model.fit(\r\n",
        "  train_images, \r\n",
        "  train_labels,\r\n",
        "  epochs = epochs,\r\n",
        "  callbacks = [callbacks]\r\n",
        ")"
      ],
      "execution_count": 21,
      "outputs": [
        {
          "output_type": "stream",
          "text": [
            "Epoch 1/10\n",
            "1875/1875 [==============================] - 6s 3ms/step - loss: 0.0068 - accuracy: 0.9979\n",
            "Epoch 2/10\n",
            "1875/1875 [==============================] - 6s 3ms/step - loss: 0.0063 - accuracy: 0.9980\n",
            "Reached 99.8% .... Stopping Training\n"
          ],
          "name": "stdout"
        }
      ]
    },
    {
      "cell_type": "markdown",
      "metadata": {
        "id": "IIhEUOOfB_Ll"
      },
      "source": [
        "### Visuals of Training Results"
      ]
    },
    {
      "cell_type": "code",
      "metadata": {
        "colab": {
          "base_uri": "https://localhost:8080/",
          "height": 517
        },
        "id": "QmxUKa4QCCv3",
        "outputId": "e9573fcb-5298-4eb9-a6f2-9e320966d8cd"
      },
      "source": [
        "acc = history.history['accuracy']\r\n",
        "loss = history.history['loss']\r\n",
        "epochs_range = [1,2]\r\n",
        "plt.figure(figsize=(8, 8))\r\n",
        "plt.plot(epochs_range, acc, label='Training Accuracy')\r\n",
        "plt.plot(epochs_range, loss, label='Loss')\r\n",
        "plt.legend(loc='lower right')\r\n",
        "plt.title('Training Accuracy and Loss')"
      ],
      "execution_count": 25,
      "outputs": [
        {
          "output_type": "execute_result",
          "data": {
            "text/plain": [
              "Text(0.5, 1.0, 'Training Accuracy and Loss')"
            ]
          },
          "metadata": {
            "tags": []
          },
          "execution_count": 25
        },
        {
          "output_type": "display_data",
          "data": {
            "image/png": "[encoded data removed]",
            "text/plain": [
              "<Figure size 576x576 with 1 Axes>"
            ]
          },
          "metadata": {
            "tags": [],
            "needs_background": "light"
          }
        }
      ]
    },
    {
      "cell_type": "markdown",
      "metadata": {
        "id": "hD8k0Wq4Cp2L"
      },
      "source": [
        "### Testing Image"
      ]
    },
    {
      "cell_type": "code",
      "metadata": {
        "colab": {
          "base_uri": "https://localhost:8080/",
          "height": 337
        },
        "id": "vB2zCuggCt_P",
        "outputId": "b2723c2e-c415-412a-f6ae-b655a05a0e70"
      },
      "source": [
        "image = (train_images[1]).reshape(1,28,28,1)\r\n",
        "model_pred = model.predict_classes(image, verbose=0)\r\n",
        "plt.imshow(image.reshape(28,28))\r\n",
        "print('Prediction of model: {}'.format(model_pred[0]))"
      ],
      "execution_count": 26,
      "outputs": [
        {
          "output_type": "stream",
          "text": [
            "/usr/local/lib/python3.6/dist-packages/tensorflow/python/keras/engine/sequential.py:450: UserWarning: `model.predict_classes()` is deprecated and will be removed after 2021-01-01. Please use instead:* `np.argmax(model.predict(x), axis=-1)`,   if your model does multi-class classification   (e.g. if it uses a `softmax` last-layer activation).* `(model.predict(x) > 0.5).astype(\"int32\")`,   if your model does binary classification   (e.g. if it uses a `sigmoid` last-layer activation).\n",
            "  warnings.warn('`model.predict_classes()` is deprecated and '\n"
          ],
          "name": "stderr"
        },
        {
          "output_type": "stream",
          "text": [
            "Prediction of model: 0\n"
          ],
          "name": "stdout"
        },
        {
          "output_type": "display_data",
          "data": {
            "image/png": "[encoded data removed]",
            "text/plain": [
              "<Figure size 432x288 with 1 Axes>"
            ]
          },
          "metadata": {
            "tags": [],
            "needs_background": "light"
          }
        }
      ]
    },
    {
      "cell_type": "code",
      "metadata": {
        "colab": {
          "base_uri": "https://localhost:8080/",
          "height": 492
        },
        "id": "rvfkvoNCC0pe",
        "outputId": "ac364aa7-c932-4a2b-b20b-37af3ef81350"
      },
      "source": [
        "images = test_images[10:19]\r\n",
        "images = images.reshape(images.shape[0], 28, 28)\r\n",
        "print (\"Test images array shape: {}\".format(images.shape))\r\n",
        "\r\n",
        "\r\n",
        "for i, test_image in enumerate(images, start=1):\r\n",
        "\r\n",
        "    org_image = test_image\r\n",
        "    test_image = test_image.reshape(1,28,28,1)\r\n",
        "    prediction = model.predict_classes(test_image, verbose=0)\r\n",
        "\r\n",
        "    print (\"Predicted digit: {}\".format(prediction[0]))\r\n",
        "    plt.subplot(3,3,i)\r\n",
        "    plt.axis('off')\r\n",
        "    plt.title(\"Predicted digit: {}\".format(prediction[0]))\r\n",
        "    plt.imshow(org_image, cmap=plt.get_cmap('gray'))\r\n",
        "\r\n",
        "plt.show()"
      ],
      "execution_count": 42,
      "outputs": [
        {
          "output_type": "stream",
          "text": [
            "Test images array shape: (9, 28, 28)\n",
            "Predicted digit: 0\n",
            "Predicted digit: 6\n",
            "Predicted digit: 9\n",
            "Predicted digit: 0\n"
          ],
          "name": "stdout"
        },
        {
          "output_type": "stream",
          "text": [
            "/usr/local/lib/python3.6/dist-packages/tensorflow/python/keras/engine/sequential.py:450: UserWarning: `model.predict_classes()` is deprecated and will be removed after 2021-01-01. Please use instead:* `np.argmax(model.predict(x), axis=-1)`,   if your model does multi-class classification   (e.g. if it uses a `softmax` last-layer activation).* `(model.predict(x) > 0.5).astype(\"int32\")`,   if your model does binary classification   (e.g. if it uses a `sigmoid` last-layer activation).\n",
            "  warnings.warn('`model.predict_classes()` is deprecated and '\n"
          ],
          "name": "stderr"
        },
        {
          "output_type": "stream",
          "text": [
            "Predicted digit: 1\n",
            "Predicted digit: 5\n",
            "Predicted digit: 9\n",
            "Predicted digit: 7\n",
            "Predicted digit: 3\n"
          ],
          "name": "stdout"
        },
        {
          "output_type": "display_data",
          "data": {
            "image/png": "[encoded data removed]",
            "text/plain": [
              "<Figure size 432x288 with 9 Axes>"
            ]
          },
          "metadata": {
            "tags": [],
            "needs_background": "light"
          }
        }
      ]
    },
    {
      "cell_type": "markdown",
      "metadata": {
        "id": "51an5JDOGqTY"
      },
      "source": [
        "Model Results"
      ]
    },
    {
      "cell_type": "code",
      "metadata": {
        "colab": {
          "base_uri": "https://localhost:8080/"
        },
        "id": "zVzycq1SGqlR",
        "outputId": "fe93f223-00ef-4466-8c55-2a475b5508f6"
      },
      "source": [
        "print(\"Evaluate on test data\")\r\n",
        "results = model.evaluate(test_images, test_labels)\r\n",
        "print(\"Test loss ={} \\nTest accuracy = {}\".format(results[0],results[1]*100))"
      ],
      "execution_count": 48,
      "outputs": [
        {
          "output_type": "stream",
          "text": [
            "Evaluate on test data\n",
            "313/313 [==============================] - 1s 2ms/step - loss: 0.0403 - accuracy: 0.9911\n",
            "Test loss =0.04030095040798187 \n",
            "Test accuracy = 99.1100013256073\n"
          ],
          "name": "stdout"
        }
      ]
    },
    {
      "cell_type": "markdown",
      "metadata": {
        "id": "1jg0a-EBFRI5"
      },
      "source": [
        "Saving the model"
      ]
    },
    {
      "cell_type": "code",
      "metadata": {
        "colab": {
          "base_uri": "https://localhost:8080/"
        },
        "id": "ktO1kfmuFT29",
        "outputId": "cf6a58fc-9986-42a2-8392-48a54826fb35"
      },
      "source": [
        "model.save(\"digitrecognition\")"
      ],
      "execution_count": 49,
      "outputs": [
        {
          "output_type": "stream",
          "text": [
            "INFO:tensorflow:Assets written to: digitrecognition/assets\n"
          ],
          "name": "stdout"
        }
      ]
    }
  ]
}